{
 "cells": [
  {
   "cell_type": "code",
   "execution_count": 1,
   "id": "613281d6-029e-448f-a91a-90ef8369ef4d",
   "metadata": {},
   "outputs": [
    {
     "name": "stdout",
     "output_type": "stream",
     "text": [
      "Requirement already satisfied: numpy in /opt/homebrew/lib/python3.11/site-packages (1.26.1)\n"
     ]
    }
   ],
   "source": [
    "# numpy\n",
    "!pip install numpy"
   ]
  },
  {
   "cell_type": "code",
   "execution_count": 2,
   "id": "2585db88-5021-467d-9e65-f5f8b8b6a26b",
   "metadata": {},
   "outputs": [
    {
     "data": {
      "text/plain": [
       "array([0, 1, 2, 3, 4, 5, 6, 7, 8, 9])"
      ]
     },
     "execution_count": 2,
     "metadata": {},
     "output_type": "execute_result"
    }
   ],
   "source": [
    "import numpy as np\n",
    "\n",
    "ar = np.array([0,1,2,3,4,5,6,7,8,9]); ar"
   ]
  },
  {
   "cell_type": "code",
   "execution_count": 26,
   "id": "24618c84-19ef-4b13-a66a-3786c8feb82f",
   "metadata": {},
   "outputs": [
    {
     "data": {
      "text/plain": [
       "numpy.ndarray"
      ]
     },
     "execution_count": 26,
     "metadata": {},
     "output_type": "execute_result"
    }
   ],
   "source": [
    "# nupmy.ndarray ; n-dimensional array\n",
    "# list 와 달리 모든 원소가 같은 자료형이어야 한다. 대신, 연속적인 메모리를 가지므로 연산 속도가 빠르다.\n",
    "type(ar)"
   ]
  },
  {
   "cell_type": "code",
   "execution_count": 9,
   "id": "5498a38f-c699-4672-938f-5ce7aa0f551e",
   "metadata": {},
   "outputs": [
    {
     "data": {
      "text/plain": [
       "\u001b[0;31mInit signature:\u001b[0m \u001b[0mnp\u001b[0m\u001b[0;34m.\u001b[0m\u001b[0mndarray\u001b[0m\u001b[0;34m(\u001b[0m\u001b[0mself\u001b[0m\u001b[0;34m,\u001b[0m \u001b[0;34m/\u001b[0m\u001b[0;34m,\u001b[0m \u001b[0;34m*\u001b[0m\u001b[0margs\u001b[0m\u001b[0;34m,\u001b[0m \u001b[0;34m**\u001b[0m\u001b[0mkwargs\u001b[0m\u001b[0;34m)\u001b[0m\u001b[0;34m\u001b[0m\u001b[0;34m\u001b[0m\u001b[0m\n",
       "\u001b[0;31mDocstring:\u001b[0m     \n",
       "ndarray(shape, dtype=float, buffer=None, offset=0,\n",
       "        strides=None, order=None)\n",
       "\n",
       "An array object represents a multidimensional, homogeneous array\n",
       "of fixed-size items.  An associated data-type object describes the\n",
       "format of each element in the array (its byte-order, how many bytes it\n",
       "occupies in memory, whether it is an integer, a floating point number,\n",
       "or something else, etc.)\n",
       "\n",
       "Arrays should be constructed using `array`, `zeros` or `empty` (refer\n",
       "to the See Also section below).  The parameters given here refer to\n",
       "a low-level method (`ndarray(...)`) for instantiating an array.\n",
       "\n",
       "For more information, refer to the `numpy` module and examine the\n",
       "methods and attributes of an array.\n",
       "\n",
       "Parameters\n",
       "----------\n",
       "(for the __new__ method; see Notes below)\n",
       "\n",
       "shape : tuple of ints\n",
       "    Shape of created array.\n",
       "dtype : data-type, optional\n",
       "    Any object that can be interpreted as a numpy data type.\n",
       "buffer : object exposing buffer interface, optional\n",
       "    Used to fill the array with data.\n",
       "offset : int, optional\n",
       "    Offset of array data in buffer.\n",
       "strides : tuple of ints, optional\n",
       "    Strides of data in memory.\n",
       "order : {'C', 'F'}, optional\n",
       "    Row-major (C-style) or column-major (Fortran-style) order.\n",
       "\n",
       "Attributes\n",
       "----------\n",
       "T : ndarray\n",
       "    Transpose of the array.\n",
       "data : buffer\n",
       "    The array's elements, in memory.\n",
       "dtype : dtype object\n",
       "    Describes the format of the elements in the array.\n",
       "flags : dict\n",
       "    Dictionary containing information related to memory use, e.g.,\n",
       "    'C_CONTIGUOUS', 'OWNDATA', 'WRITEABLE', etc.\n",
       "flat : numpy.flatiter object\n",
       "    Flattened version of the array as an iterator.  The iterator\n",
       "    allows assignments, e.g., ``x.flat = 3`` (See `ndarray.flat` for\n",
       "    assignment examples; TODO).\n",
       "imag : ndarray\n",
       "    Imaginary part of the array.\n",
       "real : ndarray\n",
       "    Real part of the array.\n",
       "size : int\n",
       "    Number of elements in the array.\n",
       "itemsize : int\n",
       "    The memory use of each array element in bytes.\n",
       "nbytes : int\n",
       "    The total number of bytes required to store the array data,\n",
       "    i.e., ``itemsize * size``.\n",
       "ndim : int\n",
       "    The array's number of dimensions.\n",
       "shape : tuple of ints\n",
       "    Shape of the array.\n",
       "strides : tuple of ints\n",
       "    The step-size required to move from one element to the next in\n",
       "    memory. For example, a contiguous ``(3, 4)`` array of type\n",
       "    ``int16`` in C-order has strides ``(8, 2)``.  This implies that\n",
       "    to move from element to element in memory requires jumps of 2 bytes.\n",
       "    To move from row-to-row, one needs to jump 8 bytes at a time\n",
       "    (``2 * 4``).\n",
       "ctypes : ctypes object\n",
       "    Class containing properties of the array needed for interaction\n",
       "    with ctypes.\n",
       "base : ndarray\n",
       "    If the array is a view into another array, that array is its `base`\n",
       "    (unless that array is also a view).  The `base` array is where the\n",
       "    array data is actually stored.\n",
       "\n",
       "See Also\n",
       "--------\n",
       "array : Construct an array.\n",
       "zeros : Create an array, each element of which is zero.\n",
       "empty : Create an array, but leave its allocated memory unchanged (i.e.,\n",
       "        it contains \"garbage\").\n",
       "dtype : Create a data-type.\n",
       "numpy.typing.NDArray : An ndarray alias :term:`generic <generic type>`\n",
       "                       w.r.t. its `dtype.type <numpy.dtype.type>`.\n",
       "\n",
       "Notes\n",
       "-----\n",
       "There are two modes of creating an array using ``__new__``:\n",
       "\n",
       "1. If `buffer` is None, then only `shape`, `dtype`, and `order`\n",
       "   are used.\n",
       "2. If `buffer` is an object exposing the buffer interface, then\n",
       "   all keywords are interpreted.\n",
       "\n",
       "No ``__init__`` method is needed because the array is fully initialized\n",
       "after the ``__new__`` method.\n",
       "\n",
       "Examples\n",
       "--------\n",
       "These examples illustrate the low-level `ndarray` constructor.  Refer\n",
       "to the `See Also` section above for easier ways of constructing an\n",
       "ndarray.\n",
       "\n",
       "First mode, `buffer` is None:\n",
       "\n",
       ">>> np.ndarray(shape=(2,2), dtype=float, order='F')\n",
       "array([[0.0e+000, 0.0e+000], # random\n",
       "       [     nan, 2.5e-323]])\n",
       "\n",
       "Second mode:\n",
       "\n",
       ">>> np.ndarray((2,), buffer=np.array([1,2,3]),\n",
       "...            offset=np.int_().itemsize,\n",
       "...            dtype=int) # offset = 1*itemsize, i.e. skip first element\n",
       "array([2, 3])\n",
       "\u001b[0;31mFile:\u001b[0m           /opt/homebrew/lib/python3.11/site-packages/numpy/__init__.py\n",
       "\u001b[0;31mType:\u001b[0m           type\n",
       "\u001b[0;31mSubclasses:\u001b[0m     chararray, recarray, memmap, matrix, MaskedArray"
      ]
     },
     "metadata": {},
     "output_type": "display_data"
    }
   ],
   "source": [
    "?np.ndarray"
   ]
  },
  {
   "cell_type": "code",
   "execution_count": 27,
   "id": "769954cc-eccf-4994-99f5-bf6bb9967605",
   "metadata": {},
   "outputs": [
    {
     "name": "stdout",
     "output_type": "stream",
     "text": [
      "[ 2  4  6  8 10 12 14 16 18 20]\n",
      "[13 16 19 22 25 28 31 34 37 40] <class 'numpy.ndarray'> <class 'numpy.ndarray'>\n",
      "[False False False False  True False False False False False] [False False False False False  True  True  True  True  True]\n"
     ]
    }
   ],
   "source": [
    "# vectorization & easier operation\n",
    "l1 = list(range(1,11))\n",
    "l2 = list(range(11,21))\n",
    "\n",
    "# 각 원소에 2를 곱한 배열\n",
    "a = np.array(l1)\n",
    "print(2 * a)\n",
    "\n",
    "# 2 * a + b\n",
    "b = np.array(l2)\n",
    "print(2 * a + b, type(a), type(b))\n",
    "\n",
    "# boolean operation\n",
    "print(a == 5, b > 15)"
   ]
  },
  {
   "cell_type": "code",
   "execution_count": 35,
   "id": "a0e17699-2816-4ff0-ab4e-835d48615e09",
   "metadata": {},
   "outputs": [
    {
     "name": "stdout",
     "output_type": "stream",
     "text": [
      "2 3\n",
      "2 (2, 3)\n",
      "4 2 3\n",
      "3 (4, 2, 3)\n"
     ]
    }
   ],
   "source": [
    "# 2-dimensional\n",
    "c = np.array([[1,2,3],[10,11,12]])\n",
    "print(len(c), len(c[0])) # 2, 3\n",
    "print(c.ndim, c.shape) # 2 (2, 3)\n",
    "\n",
    "\n",
    "# 3-dimensional\n",
    "d = np.array([[[1,2,3],[10,11,12]],[[1,2,3],[10,11,12]],[[1,2,3],[10,11,12]],[[1,2,3],[10,11,12]]])\n",
    "print(len(d), len(d[0]), len(d[0,1])) # 4, 2, 3\n",
    "print(d.ndim, d.shape) # 3 (4, 2, 3)"
   ]
  },
  {
   "cell_type": "code",
   "execution_count": 49,
   "id": "6be4e5dc-d3ba-4a14-89c2-ddeb2520ea08",
   "metadata": {},
   "outputs": [
    {
     "name": "stdout",
     "output_type": "stream",
     "text": [
      "[0 1 2 3]\n",
      "[1 5]\n",
      "[5 6 7]\n",
      "[[0 1]\n",
      " [4 5]]\n"
     ]
    }
   ],
   "source": [
    "# slicing\n",
    "test = np.array([[0, 1, 2, 3], [4, 5, 6, 7]])\n",
    "print(test[0,:])\t# 첫번째 행 전체\n",
    "print(test[:,1])\t# 두번째 열 전체\n",
    "print(test[1,1:])\t# 두번째 행의 두번째 열부터 끝 열까지\n",
    "print(test[:2,:2])\t# 2열까지"
   ]
  },
  {
   "cell_type": "code",
   "execution_count": 77,
   "id": "08b9ef26-7107-42b6-a8dc-77bfc436e9f0",
   "metadata": {},
   "outputs": [
    {
     "name": "stdout",
     "output_type": "stream",
     "text": [
      "[12 14 16 18 20]\n",
      "[12 14 16 18 20]\n",
      "[[ 1  3]\n",
      " [ 5  7]\n",
      " [ 9 11]]\n",
      "[[5 6 7 8]]\n"
     ]
    }
   ],
   "source": [
    "# array(facny) indexing - 정수,boolean 으로 query 하는 방법\n",
    "\n",
    "## boolean\n",
    "bbb = np.array([11,12,13,14,15,16,17,18,19,20])\n",
    "idx = np.array([False,True,False,True,False,True,False,True,False,True])\n",
    "print(bbb[idx]) # 짝수만 발라내기\n",
    "print(bbb[bbb%2 == 0]) # 동일결과\n",
    "\n",
    "## 정수\n",
    "bbb[np.array([4,3,2,1])]\n",
    "\n",
    "## 다차원\n",
    "da = np.array([[ 1,  2,  3,  4],\n",
    "       [ 5,  6,  7,  8],\n",
    "       [ 9, 10, 11, 12]])\n",
    "\n",
    "print(da[:,[True,False,True,False]])\n",
    "print(da[[False,True,False],:])\n",
    "\n"
   ]
  },
  {
   "cell_type": "code",
   "execution_count": 85,
   "id": "6613dc78-35e8-43ed-915b-da656d2d69a8",
   "metadata": {},
   "outputs": [
    {
     "name": "stdout",
     "output_type": "stream",
     "text": [
      "[1 2 3]\n"
     ]
    }
   ],
   "source": [
    "# 자료형\n",
    "x = np.array([1,2,3])\n",
    "x.dtype # int64\n",
    "\n",
    "y = np.array([1.0, 2.0, 3.0])\n",
    "y.dtype # float64\n",
    "\n",
    "z = np.array([1,2.0,3])\n",
    "z.dtype # float64\n",
    "\n",
    "print(np.array([1.1, 2.1, 3.1], dtype='i')) # [1,2,3], dtype one of (i, i8, u, u8, c, c16, O, 0, S, S24, U, U24)"
   ]
  },
  {
   "cell_type": "code",
   "execution_count": 91,
   "id": "21c140b4-ebdb-4035-b2ba-a18f5f8c8f85",
   "metadata": {},
   "outputs": [
    {
     "name": "stderr",
     "output_type": "stream",
     "text": [
      "/var/folders/2j/hc1tn4p579n_s_wz02kjwnz00000gn/T/ipykernel_69945/3895389483.py:2: RuntimeWarning: divide by zero encountered in divide\n",
      "  np.array([0,1,-1,0]) / np.array([1,0,0,0]) # [0.0, inf, -inf, nan]\n",
      "/var/folders/2j/hc1tn4p579n_s_wz02kjwnz00000gn/T/ipykernel_69945/3895389483.py:2: RuntimeWarning: invalid value encountered in divide\n",
      "  np.array([0,1,-1,0]) / np.array([1,0,0,0]) # [0.0, inf, -inf, nan]\n"
     ]
    },
    {
     "data": {
      "text/plain": [
       "array([  0.,  inf, -inf,  nan])"
      ]
     },
     "execution_count": 91,
     "metadata": {},
     "output_type": "execute_result"
    }
   ],
   "source": [
    "# inf & nan\n",
    "np.array([0,1,-1,0]) / np.array([1,0,0,0]) # [0.0, inf, -inf, nan]"
   ]
  },
  {
   "cell_type": "code",
   "execution_count": 129,
   "id": "59255acb-7e78-4f04-9880-e28801fefc54",
   "metadata": {},
   "outputs": [
    {
     "name": "stdout",
     "output_type": "stream",
     "text": [
      "[0. 0. 0. 0. 0.]\n",
      "[[0. 0. 0.]\n",
      " [0. 0. 0.]]\n",
      "[[0 0 0]\n",
      " [0 0 0]]\n",
      "[['' '' '']\n",
      " ['' '' '']]\n",
      "[0 1 2 3 4]\n",
      "[[0 1 2 3 4]]\n",
      "[[0]\n",
      " [1]\n",
      " [2]\n",
      " [3]\n",
      " [4]]\n",
      "[[0]\n",
      " [1]\n",
      " [2]\n",
      " [3]\n",
      " [4]]\n"
     ]
    }
   ],
   "source": [
    "# utility\n",
    "\n",
    "## zeros\n",
    "print(np.zeros(5))\n",
    "print(np.zeros((2,3)))\n",
    "print(np.zeros((2,3), dtype=\"i\"))\n",
    "print(np.zeros((2,3), dtype=\"U4\")) # 유니코드 4자 [['' '' '']['' '' '']]\n",
    "uzeros = np.zeros((2,3), dtype=\"U4\")\n",
    "uzeros[1][2]='ABCDEFG'; uzeros # 유니코드 4자를 넘어가면 잘린다.\n",
    "\n",
    "## ones\n",
    "p = np.ones((2,3,4), dtype=\"i8\")\n",
    "q = np.ones_like(p, dtype=\"f\")\n",
    "\n",
    "# empty (초기화 하지 않음, 쓰레기값 보존)\n",
    "r = np.empty((2,3,4))\n",
    "\n",
    "# arange (numpy version range)\n",
    "np.arange(10)\n",
    "np.arange(3,21,2) # array([ 3,  5,  7,  9, 11, 13, 15, 17, 19])\n",
    "\n",
    "\n",
    "# linspace, logspace\n",
    "np.linspace(0,100,5) # array([  0.,  25.,  50.,  75., 100.])\n",
    "np.logspace(0.1, 1, 10) #array([ 1.25892541,  1.58489319,  1.99526231,  2.51188643,  3.16227766, 3.98107171,  5.01187234,  6.30957344,  7.94328235, 10.        ])\n",
    "\n",
    "# T (transpose)\n",
    "A = np.array([[1,2,3],[10,20,30]])\n",
    "A.T\n",
    "\n",
    "# reshape\n",
    "np.arange(0,63).reshape(7,9)\n",
    "np.arange(0,63).reshape(7,-1) # 9를 -1로 대체할 수 있다.\n",
    "np.arange(0,63).reshape(7,-1,3) # 9를 -1로 대체할 수 있다.\n",
    "\n",
    "# flatten, ravel\n",
    "np.arange(0,63).reshape(7,-1,3).flatten()\n",
    "np.arange(0,63).reshape(7,-1,3).ravel()\n",
    "\n",
    "# not equal! \n",
    "print(np.arange(5)) # 5\n",
    "print(np.arange(5).reshape(1,5)) # (1,5)\n",
    "print(np.arange(5).reshape(5,1)) # (5,1)\n",
    "\n",
    "# 차원증가 (5 → (5,1))\n",
    "print(np.arange(5)[:,np.newaxis])"
   ]
  }
 ],
 "metadata": {
  "kernelspec": {
   "display_name": "Python 3 (ipykernel)",
   "language": "python",
   "name": "python3"
  },
  "language_info": {
   "codemirror_mode": {
    "name": "ipython",
    "version": 3
   },
   "file_extension": ".py",
   "mimetype": "text/x-python",
   "name": "python",
   "nbconvert_exporter": "python",
   "pygments_lexer": "ipython3",
   "version": "3.11.6"
  }
 },
 "nbformat": 4,
 "nbformat_minor": 5
}
