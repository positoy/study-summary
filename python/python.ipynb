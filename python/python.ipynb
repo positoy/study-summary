{
 "cells": [
  {
   "cell_type": "code",
   "execution_count": 3,
   "id": "ddbad8af-cc96-4d83-b8c1-c3ed63061eb0",
   "metadata": {},
   "outputs": [
    {
     "name": "stdout",
     "output_type": "stream",
     "text": [
      "[1, 2, 3] <class 'list'> 3\n",
      "[0, 1, 2, 3, 4, 5, 6, 7, 8, 9] <class 'list'> 10\n",
      "[1, 4, 7] <class 'list'> 3\n",
      "[10, 2, 3]\n",
      "[10, 2, 3, 4]\n",
      "[2, 3, 4]\n",
      "[3, 4] [0, 1, 2, 3, 4]\n",
      "[3, 4] [0, 1, 2, 3, 4] [5, 6, 7, 8, 9]\n",
      "red green blue\n",
      "[[0, 1, 2, 3, 4], [0, 1, 2, 3, 4], [0, 1, 2, 3, 4]]\n"
     ]
    }
   ],
   "source": [
    "# List\n",
    "\n",
    "## construct\n",
    "l = [1,2,3];\n",
    "print(l, type(l), len(l))\n",
    "\n",
    "ll = list(range(10))\n",
    "print(ll, type(ll), len(ll))\n",
    "\n",
    "lll = list(range(1,10,3))\n",
    "print(lll, type(lll), len(lll))\n",
    "\n",
    "## update\n",
    "l[0] = 10; print(l)\n",
    "\n",
    "## add\n",
    "l.append(4); print(l)\n",
    "\n",
    "## delete\n",
    "del l[0]; print(l)\n",
    "\n",
    "## slicing\n",
    "print(ll[3:5], ll[:5])\n",
    "\n",
    "## reverse indexing\n",
    "print(ll[-7:-5], ll[:-5], ll[-5:])\n",
    "\n",
    "## sequence unpacking\n",
    "red, green, blue = ['red', 'green', 'blue']\n",
    "print(red, green, blue)\n",
    "\n",
    "## two-mensional\n",
    "print([list(range(0,5)),list(range(0,5)),list(range(0,5))])\n"
   ]
  },
  {
   "cell_type": "code",
   "execution_count": 38,
   "id": "f2547dc4-bb90-405f-bf9c-1d36baef6d12",
   "metadata": {},
   "outputs": [
    {
     "name": "stdout",
     "output_type": "stream",
     "text": [
      "1\n",
      "2\n",
      "3\n",
      "4\n",
      "5\n",
      "6\n",
      "7\n",
      "8\n",
      "9\n",
      "45 9 5.0\n",
      "0 1\n",
      "1 2\n",
      "2 3\n",
      "3 4\n",
      "4 5\n",
      "5 6\n",
      "6 7\n",
      "7 8\n",
      "8 9\n",
      "0 (1, 11) 12\n",
      "1 (2, 12) 14\n",
      "2 (3, 13) 16\n",
      "3 (4, 14) 18\n",
      "4 (5, 15) 20\n",
      "5 (6, 16) 22\n",
      "6 (7, 17) 24\n",
      "7 (8, 18) 26\n",
      "8 (9, 19) 28\n",
      "[(1, 11), (2, 12), (3, 13), (4, 14), (5, 15), (6, 16), (7, 17), (8, 18), (9, 19)]\n",
      "[(1, 2, 3, 4, 5, 6, 7, 8, 9), (11, 12, 13, 14, 15, 16, 17, 18, 19)]\n",
      "[(1, 11), (2, 12), (3, 13), (4, 14), (5, 15), (6, 16), (7, 17), (8, 18), (9, 19)]\n"
     ]
    },
    {
     "data": {
      "text/plain": [
       "('길동', '철수', '영수', '방자')"
      ]
     },
     "execution_count": 38,
     "metadata": {},
     "output_type": "execute_result"
    }
   ],
   "source": [
    "# Iteration\n",
    "nums = list(range(1,10))\n",
    "\n",
    "for num in nums:\n",
    "    print(num)\n",
    "\n",
    "\n",
    "sum = 0\n",
    "for i in range(len(nums)):\n",
    "    sum += nums[i]\n",
    "\n",
    "print(sum, len(nums), sum/len(nums))\n",
    "\n",
    "# enumerate\n",
    "for i,num in enumerate(nums):\n",
    "    print (i, num)\n",
    "\n",
    "# zip\n",
    "nums2 = list(range(11,20))\n",
    "\n",
    "for i,tuple in enumerate(zip(nums,nums2)):\n",
    "    a,b = tuple\n",
    "    print(i, tuple, a+b) # type(tuple) = <class 'tuple'>, type(list(tuple)) = <class 'list'>\n",
    "\n",
    "nums12 = list(zip(nums,nums2))\n",
    "print(nums12)\n",
    "print(list(zip(*nums12))) # 1x2x10\n",
    "print(list(zip(*list(zip(*nums12))))) # 1x10x2\n",
    "\n",
    "x = [\n",
    "  [\"길동\", 90],\n",
    "  [\"철수\", 80],\n",
    "  [\"영수\", 70],\n",
    "  [\"방자\", 60],\n",
    "]\n",
    "list(zip(*x))[0] # ('길동', '철수', '영수', '방자')\n"
   ]
  },
  {
   "cell_type": "code",
   "execution_count": 60,
   "id": "33db8743-e597-4405-aef4-ff616b69942d",
   "metadata": {},
   "outputs": [
    {
     "name": "stdout",
     "output_type": "stream",
     "text": [
      "{'a': 10, 'b': 20} 2\n",
      "{'a': 30, 'b': 20}\n",
      "{'a': 30, 'b': 20, 'c': 40}\n",
      "{'a': 30, 'b': 20}\n",
      "a\n",
      "b\n",
      "key [a] => value [30]\n",
      "key [b] => value [20]\n"
     ]
    }
   ],
   "source": [
    "# Dictionary (Map)\n",
    "\n",
    "# declaration\n",
    "d = {\"a\":10, \"b\":20}; print(d, len(d)) #2\n",
    "\n",
    "# update\n",
    "d[\"a\"] = 30; print(d)\n",
    "\n",
    "# add\n",
    "d[\"c\"] = 40; print(d)\n",
    "\n",
    "# delete\n",
    "del d[\"c\"]; print(d)\n",
    "\n",
    "# check key\n",
    "\"a\" in d, \"c\" in d # True, False\n",
    "\n",
    "# iteration\n",
    "for k in d:\n",
    "    print(k) # a,b\n",
    "\n",
    "d.keys()\t# dict_keys(['a', 'b'])\n",
    "d.values()\t# dict_values([30, 20])\n",
    "d.items()\t# dict_items([('a', 30), ('b', 20)])\n",
    "\n",
    "for k, v in d.items():\n",
    "    print(\"key [%s] => value [%d]\" % (k, v))"
   ]
  },
  {
   "cell_type": "code",
   "execution_count": 70,
   "id": "8981ccf2-a61b-4a93-b992-b7ca50feeb38",
   "metadata": {},
   "outputs": [
    {
     "name": "stdout",
     "output_type": "stream",
     "text": [
      "10 20 200\n"
     ]
    },
    {
     "data": {
      "text/plain": [
       "[<__main__.Point at 0x107459ed0>,\n",
       " <__main__.Point at 0x107458d10>,\n",
       " <__main__.Point at 0x107459ad0>,\n",
       " <__main__.Point at 0x107459d10>]"
      ]
     },
     "execution_count": 70,
     "metadata": {},
     "output_type": "execute_result"
    }
   ],
   "source": [
    "# object oriented programming\n",
    "\n",
    "class Rectangle(object):\n",
    "\n",
    "    def __init__(self,h,v):\n",
    "        self.h = h\n",
    "        self.v = v\n",
    "\n",
    "    def area(self):\n",
    "        return self.h * self.v\n",
    "\n",
    "r = Rectangle(10,20)\n",
    "a = r.area()\n",
    "print(r.h, r.v, a)\n",
    "\n",
    "# inheritance\n",
    "class Point(object):\n",
    "\n",
    "    def __init__(self,x,y):\n",
    "        self.x = x\n",
    "        self.y = y\n",
    "\n",
    "# (0,0), (2,0), (2,4), (0,4)\n",
    "class PointedRectangle(Rectangle):\n",
    "\n",
    "    def __init__(self, p1, p2, p3, p4):\n",
    "        super(PointedRectangle, self).__init__(p3.y - p1.y, p3.x - p1.x)\n",
    "        self.points = [p1,p2,p3,p4]\n",
    "\n",
    "pr = PointedRectangle(Point(0,0), Point(2,0), Point(2,4), Point(0,4))\n",
    "pr.points  \n",
    "    "
   ]
  }
 ],
 "metadata": {
  "kernelspec": {
   "display_name": "Python 3 (ipykernel)",
   "language": "python",
   "name": "python3"
  },
  "language_info": {
   "codemirror_mode": {
    "name": "ipython",
    "version": 3
   },
   "file_extension": ".py",
   "mimetype": "text/x-python",
   "name": "python",
   "nbconvert_exporter": "python",
   "pygments_lexer": "ipython3",
   "version": "3.11.6"
  }
 },
 "nbformat": 4,
 "nbformat_minor": 5
}
